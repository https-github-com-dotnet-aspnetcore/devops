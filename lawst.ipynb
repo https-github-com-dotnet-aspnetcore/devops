{
 "metadata": {
  "language_info": {
   "codemirror_mode": {
    "name": "ipython",
    "version": 3
   },
   "file_extension": ".py",
   "mimetype": "text/x-python",
   "name": "python",
   "nbconvert_exporter": "python",
   "pygments_lexer": "ipython3",
   "version": "3.6.6-final"
  },
  "orig_nbformat": 2,
  "kernelspec": {
   "name": "Python 3.6.6 64-bit",
   "display_name": "Python 3.6.6 64-bit",
   "metadata": {
    "interpreter": {
     "hash": "2e5c6628eef985e7fd2fa2aad22c988c5b8aa1d2648cf9c51c543a2a2637c546"
    }
   }
  }
 },
 "nbformat": 4,
 "nbformat_minor": 2,
 "cells": [
  {
   "cell_type": "code",
   "execution_count": 2,
   "metadata": {},
   "outputs": [
    {
     "output_type": "error",
     "ename": "SyntaxError",
     "evalue": "invalid syntax (<ipython-input-2-c89ce32e1611>, line 9)",
     "traceback": [
      "\u001b[1;36m  File \u001b[1;32m\"<ipython-input-2-c89ce32e1611>\"\u001b[1;36m, line \u001b[1;32m9\u001b[0m\n\u001b[1;33m    map (.func.iterables.iter1)\u001b[0m\n\u001b[1;37m         ^\u001b[0m\n\u001b[1;31mSyntaxError\u001b[0m\u001b[1;31m:\u001b[0m invalid syntax\n"
     ]
    }
   ],
   "source": [
    "ValueError (property)\n",
    "v8_context_snapshot.bin (dir)\n",
    "callable (type)\n",
    "staticmethod (d3dcompiler_47.dll)\n",
    "StopAsyncIteration (ascii)\n",
    "next (get_ipython)\n",
    "BufferError (FutureWarning)\n",
    "OSError (zip)\n",
    "map (.func.iterables.iter1)\n",
    "async (hash)\n",
    "OverflowError (swiftshader/)\n",
    "SystemExit (libGLESv2.dll)\n",
    "any (WindowsError)"
   ]
  },
  {
   "cell_type": "code",
   "execution_count": null,
   "metadata": {},
   "outputs": [],
   "source": [
    "url (OverflowError)\n",
    "locals (icudtl.dat)\n",
    "ascii (tuple)\n",
    "import (license)\n",
    "libGLESv2.dll (unins000.exe)\n",
    "set (snapshot_blob.bin)\n",
    "any (unins000.msg)\n",
    "try (chrome_100_percent.pak)\n",
    "hex (hash)\n",
    "open (list)\n",
    "while (staticmethod*sum.__init_subclass__.__sizeof__)\n",
    "pass (__class__. unins000.exe/KeyboardInterrupt)\n",
    "zip (unins000.msg./dir)"
   ]
  },
  {
   "cell_type": "code",
   "execution_count": 3,
   "metadata": {},
   "outputs": [
    {
     "output_type": "error",
     "ename": "SyntaxError",
     "evalue": "invalid syntax (<ipython-input-3-f1de0dd877fe>, line 1)",
     "traceback": [
      "\u001b[1;36m  File \u001b[1;32m\"<ipython-input-3-f1de0dd877fe>\"\u001b[1;36m, line \u001b[1;32m1\u001b[0m\n\u001b[1;33m    while (property)\u001b[0m\n\u001b[1;37m                    ^\u001b[0m\n\u001b[1;31mSyntaxError\u001b[0m\u001b[1;31m:\u001b[0m invalid syntax\n"
     ]
    }
   ],
   "source": [
    "while (property)\n",
    "print (memoryview)\n",
    "async (__subclasshook__): get_ipython\n",
    "set (__class__): input\n",
    "icudtl.dat (swiftshader/__package__)\n",
    "locals in (@href.iter4) format\n",
    "compile this (unins000.dat)\n",
    "all .__slots__ (print)"
   ]
  },
  {
   "cell_type": "code",
   "execution_count": 2,
   "metadata": {},
   "outputs": [
    {
     "output_type": "error",
     "ename": "SyntaxError",
     "evalue": "invalid syntax (<ipython-input-2-758af8f0d739>, line 1)",
     "traceback": [
      "\u001b[1;36m  File \u001b[1;32m\"<ipython-input-2-758af8f0d739>\"\u001b[1;36m, line \u001b[1;32m1\u001b[0m\n\u001b[1;33m    print (SystemExit: get_ipython)\u001b[0m\n\u001b[1;37m                     ^\u001b[0m\n\u001b[1;31mSyntaxError\u001b[0m\u001b[1;31m:\u001b[0m invalid syntax\n"
     ]
    }
   ],
   "source": [
    "print (SystemExit: get_ipython)\n",
    "print (file=*snapshot_blob.bin)\n",
    "print and type (object)"
   ]
  },
  {
   "cell_type": "code",
   "execution_count": null,
   "metadata": {},
   "outputs": [],
   "source": []
  }
 ]
}